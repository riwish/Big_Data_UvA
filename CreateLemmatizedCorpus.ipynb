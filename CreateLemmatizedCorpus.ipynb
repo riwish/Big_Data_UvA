{
 "cells": [
  {
   "cell_type": "markdown",
   "metadata": {},
   "source": [
    "This notebook is an implementation of the methodology as described in the paper (*Building a Lemmatized corpus from documents varying in volume and average word length*). "
   ]
  },
  {
   "cell_type": "code",
   "execution_count": 1,
   "metadata": {},
   "outputs": [
    {
     "name": "stderr",
     "output_type": "stream",
     "text": [
      "[nltk_data] Downloading package wordnet to\n",
      "[nltk_data]     C:\\Users\\Gebruiker\\AppData\\Roaming\\nltk_data...\n",
      "[nltk_data]   Package wordnet is already up-to-date!\n"
     ]
    }
   ],
   "source": [
    "import os\n",
    "import sys\n",
    "import json\n",
    "import nltk\n",
    "import string\n",
    "from dask import dataframe as dd\n",
    "import pandas as pd\n",
    "import numpy as np\n",
    "import matplotlib.pyplot as plt\n",
    "from time import time as curr_time\n",
    "from multiprocessing import cpu_count\n",
    "from threading import Thread\n",
    "from tqdm.notebook import tqdm\n",
    "from nltk.stem import WordNetLemmatizer\n",
    "from nltk import word_tokenize\n",
    "\n",
    "import findspark\n",
    "findspark.init('C:/Users/Gebruiker/Desktop/spark/spark-3.0.0-preview2-bin-hadoop2.7')\n",
    "import pyspark\n",
    "findspark.find()\n",
    "\n",
    "from pyspark import SparkContext, SparkConf\n",
    "from pyspark.sql import SparkSession\n",
    "conf = pyspark.SparkConf().setAppName('appName').setMaster('local')\n",
    "sc = pyspark.SparkContext(conf=conf)\n",
    "spark = SparkSession(sc)\n",
    "\n",
    "nltk.download('wordnet')\n",
    "\n",
    "curr_dir = os.getcwd()\n",
    "\n",
    "%matplotlib inline"
   ]
  },
  {
   "cell_type": "markdown",
   "metadata": {},
   "source": [
    "# Load Dataset\n",
    "The implementation of the paper will be performed on a 200k English plaintext jokes dataset. (clone the repository from: https://github.com/taivop/joke-dataset and discard any files other than the .json ones)."
   ]
  },
  {
   "cell_type": "code",
   "execution_count": null,
   "metadata": {},
   "outputs": [],
   "source": [
    "def read_data(global_df, filepath=[\"reddit\", \"stupidstuff\", \"wocka\"]):\n",
    "    for file in filepath: \n",
    "        print(file)\n",
    "        with open(os.path.join(curr_dir, \"dataset\", file+\".json\")) as json_file:\n",
    "            jokes = json.load(json_file)\n",
    "            for joke in tqdm(jokes):\n",
    "                global_df = global_df.append({'corpus': joke['body']}, ignore_index=True)\n",
    "    return global_df"
   ]
  },
  {
   "cell_type": "code",
   "execution_count": 2,
   "metadata": {},
   "outputs": [],
   "source": [
    "global_df = pd.DataFrame({'corpus': []})\n",
    "\n",
    "if not os.path.exists(os.path.join(curr_dir, \"raw_df.pkl\")):\n",
    "    global_df = read_data(global_df)\n",
    "else:\n",
    "    global_df = pd.read_pickle(\"tokenized_df.pkl\")"
   ]
  },
  {
   "cell_type": "code",
   "execution_count": null,
   "metadata": {},
   "outputs": [],
   "source": [
    "#global_df.to_pickle(\"raw_df.pkl\")"
   ]
  },
  {
   "cell_type": "code",
   "execution_count": null,
   "metadata": {},
   "outputs": [],
   "source": [
    "global_df.head()"
   ]
  },
  {
   "cell_type": "code",
   "execution_count": null,
   "metadata": {},
   "outputs": [],
   "source": [
    "# Tokenize every document\n",
    "global_df['corpus'] = global_df['corpus'].apply(lambda x : word_tokenize(x))"
   ]
  },
  {
   "cell_type": "code",
   "execution_count": null,
   "metadata": {},
   "outputs": [],
   "source": [
    "# remove punctuation\n",
    "global_df['corpus'] = global_df['corpus'].apply(lambda x : [''.join(c for c in s if c not in string.punctuation) for s in x])"
   ]
  },
  {
   "cell_type": "code",
   "execution_count": null,
   "metadata": {},
   "outputs": [],
   "source": [
    "# average word length\n",
    "global_df['avg_word_length'] = global_df['corpus'].apply(lambda x : len(x))"
   ]
  },
  {
   "cell_type": "code",
   "execution_count": null,
   "metadata": {},
   "outputs": [],
   "source": [
    "#global_df.to_pickle(\"tokenized_df.pkl\")"
   ]
  },
  {
   "cell_type": "code",
   "execution_count": 3,
   "metadata": {},
   "outputs": [
    {
     "data": {
      "text/html": [
       "<div>\n",
       "<style scoped>\n",
       "    .dataframe tbody tr th:only-of-type {\n",
       "        vertical-align: middle;\n",
       "    }\n",
       "\n",
       "    .dataframe tbody tr th {\n",
       "        vertical-align: top;\n",
       "    }\n",
       "\n",
       "    .dataframe thead th {\n",
       "        text-align: right;\n",
       "    }\n",
       "</style>\n",
       "<table border=\"1\" class=\"dataframe\">\n",
       "  <thead>\n",
       "    <tr style=\"text-align: right;\">\n",
       "      <th></th>\n",
       "      <th>corpus</th>\n",
       "      <th>avg_word_length</th>\n",
       "    </tr>\n",
       "  </thead>\n",
       "  <tbody>\n",
       "    <tr>\n",
       "      <td>0</td>\n",
       "      <td>[Now, I, have, to, say, , Leroy, can, you, ple...</td>\n",
       "      <td>15</td>\n",
       "    </tr>\n",
       "    <tr>\n",
       "      <td>1</td>\n",
       "      <td>[Pizza, does, nt, scream, when, you, put, it, ...</td>\n",
       "      <td>17</td>\n",
       "    </tr>\n",
       "    <tr>\n",
       "      <td>2</td>\n",
       "      <td>[, and, being, there, really, helped, me, lear...</td>\n",
       "      <td>42</td>\n",
       "    </tr>\n",
       "    <tr>\n",
       "      <td>3</td>\n",
       "      <td>[A, Sunday, school, teacher, is, concerned, th...</td>\n",
       "      <td>126</td>\n",
       "    </tr>\n",
       "    <tr>\n",
       "      <td>4</td>\n",
       "      <td>[He, got, caught, trying, to, sell, the, two, ...</td>\n",
       "      <td>13</td>\n",
       "    </tr>\n",
       "  </tbody>\n",
       "</table>\n",
       "</div>"
      ],
      "text/plain": [
       "                                              corpus  avg_word_length\n",
       "0  [Now, I, have, to, say, , Leroy, can, you, ple...               15\n",
       "1  [Pizza, does, nt, scream, when, you, put, it, ...               17\n",
       "2  [, and, being, there, really, helped, me, lear...               42\n",
       "3  [A, Sunday, school, teacher, is, concerned, th...              126\n",
       "4  [He, got, caught, trying, to, sell, the, two, ...               13"
      ]
     },
     "execution_count": 3,
     "metadata": {},
     "output_type": "execute_result"
    }
   ],
   "source": [
    "global_df.head()"
   ]
  },
  {
   "cell_type": "code",
   "execution_count": 4,
   "metadata": {},
   "outputs": [
    {
     "data": {
      "text/plain": [
       "{'1-20': None,\n",
       " '20-30': None,\n",
       " '30-40': None,\n",
       " '40-50': None,\n",
       " '50-60': None,\n",
       " '60-70': None,\n",
       " '70-80': None,\n",
       " '80-90': None,\n",
       " '90-100': None}"
      ]
     },
     "execution_count": 4,
     "metadata": {},
     "output_type": "execute_result"
    }
   ],
   "source": [
    "subset_varying_wordLength = {}\n",
    "subset_varying_documents = None\n",
    "plot_number_of_documents = {}\n",
    "\n",
    "ranges = [1,20,30,40,50,60,70,80,90,100]\n",
    "\n",
    "for index, start_range in enumerate(ranges):\n",
    "    end_range = None\n",
    "    if index + 1 == len(ranges):\n",
    "        break\n",
    "    else:\n",
    "        end_range = ranges[index + 1]\n",
    "    subset_varying_wordLength[str(start_range) + '-' + str(end_range)] = None\n",
    "    plot_number_of_documents[str(start_range) + '-' + str(end_range)] = None\n",
    "    \n",
    "subset_varying_wordLength"
   ]
  },
  {
   "cell_type": "code",
   "execution_count": 5,
   "metadata": {},
   "outputs": [],
   "source": [
    "for subset in subset_varying_wordLength.keys():\n",
    "    start, end = subset.split('-')\n",
    "    subset_varying_wordLength[subset] = global_df[(global_df['avg_word_length'] > int(start)) & (global_df['avg_word_length'] < int(end))]\n",
    "\n",
    "subset_varying_documents = subset_varying_wordLength['1-20'].copy()"
   ]
  },
  {
   "cell_type": "code",
   "execution_count": 6,
   "metadata": {},
   "outputs": [
    {
     "name": "stderr",
     "output_type": "stream",
     "text": [
      "C:\\Users\\Gebruiker\\Anaconda3\\lib\\site-packages\\pandas\\core\\frame.py:4102: SettingWithCopyWarning: \n",
      "A value is trying to be set on a copy of a slice from a DataFrame\n",
      "\n",
      "See the caveats in the documentation: http://pandas.pydata.org/pandas-docs/stable/user_guide/indexing.html#returning-a-view-versus-a-copy\n",
      "  errors=errors,\n"
     ]
    }
   ],
   "source": [
    "for category, df in subset_varying_wordLength.items(): \n",
    "    num_rows = int(df.shape[0])\n",
    "    plot_number_of_documents[category] = num_rows\n",
    "    if num_rows > 2000:\n",
    "        df.drop(df.tail(num_rows-2000).index,inplace=True)"
   ]
  },
  {
   "cell_type": "code",
   "execution_count": 7,
   "metadata": {},
   "outputs": [
    {
     "name": "stdout",
     "output_type": "stream",
     "text": [
      "2000\n",
      "2000\n",
      "2000\n",
      "2000\n",
      "2000\n",
      "2000\n",
      "2000\n",
      "2000\n",
      "2000\n"
     ]
    }
   ],
   "source": [
    "# Check if all subsets do contain the same amount of rows\n",
    "for category, df in subset_varying_wordLength.items(): \n",
    "    print(df.shape[0])"
   ]
  },
  {
   "cell_type": "code",
   "execution_count": 8,
   "metadata": {},
   "outputs": [
    {
     "data": {
      "text/plain": [
       "{'1-20': 141335,\n",
       " '20-30': 12598,\n",
       " '30-40': 6928,\n",
       " '40-50': 5027,\n",
       " '50-60': 3753,\n",
       " '60-70': 3229,\n",
       " '70-80': 2804,\n",
       " '80-90': 2791,\n",
       " '90-100': 2380}"
      ]
     },
     "execution_count": 8,
     "metadata": {},
     "output_type": "execute_result"
    }
   ],
   "source": [
    "plot_number_of_documents"
   ]
  },
  {
   "cell_type": "code",
   "execution_count": 9,
   "metadata": {},
   "outputs": [
    {
     "data": {
      "text/plain": [
       "141335"
      ]
     },
     "execution_count": 9,
     "metadata": {},
     "output_type": "execute_result"
    }
   ],
   "source": [
    "subset_varying_documents.shape[0]"
   ]
  },
  {
   "cell_type": "code",
   "execution_count": 10,
   "metadata": {},
   "outputs": [
    {
     "data": {
      "image/png": "[encoded data removed]",
      "text/plain": [
       "<Figure size 432x288 with 1 Axes>"
      ]
     },
     "metadata": {
      "needs_background": "light"
     },
     "output_type": "display_data"
    }
   ],
   "source": [
    "plt.barh(range(len(plot_number_of_documents)), list(plot_number_of_documents.values()), align='center')\n",
    "plt.yticks(range(len(plot_number_of_documents)), list(plot_number_of_documents.keys()))\n",
    "plt.xlabel(\"Number of documents\")\n",
    "plt.ylabel(\"Average word length category\")\n",
    "plt.title(\"Amount of documents per word length category\")\n",
    "plt.grid(True)\n",
    "plt.show()"
   ]
  },
  {
   "cell_type": "markdown",
   "metadata": {},
   "source": [
    "# METHOD 1: Native Python & Pandas"
   ]
  },
  {
   "cell_type": "code",
   "execution_count": 11,
   "metadata": {},
   "outputs": [],
   "source": [
    "globalLemmaInstance = WordNetLemmatizer()\n",
    "method_1_native_execution_results_threads_1 = {\n",
    "    \"document_size\": {\n",
    "        \"global\":{\n",
    "            '1k': None,\n",
    "            '10k': None,\n",
    "            '25k': None,\n",
    "            '50k': None,\n",
    "            '75k': None,\n",
    "            '100k': None\n",
    "        },\n",
    "        \"no_global\": {\n",
    "            '1k': None,\n",
    "            '10k': None,\n",
    "            '25k': None,\n",
    "            '50k': None,\n",
    "            '75k': None,\n",
    "            '100k': None\n",
    "        }\n",
    "    },\n",
    "    \"document_length\": {\n",
    "        \"global\":{\n",
    "            '1-20': None,\n",
    "            '20-30': None,\n",
    "            '30-40': None,\n",
    "            '40-50': None,\n",
    "            '50-60': None,\n",
    "            '60-70': None,\n",
    "            '70-80': None,\n",
    "            '80-90': None,\n",
    "            '90-100': None\n",
    "        },\n",
    "        \"no_global\": {\n",
    "            '1-20': None,\n",
    "            '20-30': None,\n",
    "            '30-40': None,\n",
    "            '40-50': None,\n",
    "            '50-60': None,\n",
    "            '60-70': None,\n",
    "            '70-80': None,\n",
    "            '80-90': None,\n",
    "            '90-100': None\n",
    "        }\n",
    "    }\n",
    "}\n",
    "\n",
    "method_1_native_execution_results_threads_6 = {\n",
    "    \"document_size\": {\n",
    "        \"global\":{\n",
    "            '1k': None,\n",
    "            '10k': None,\n",
    "            '25k': None,\n",
    "            '50k': None,\n",
    "            '75k': None,\n",
    "            '100k': None\n",
    "        },\n",
    "        \"no_global\": {\n",
    "            '1k': None,\n",
    "            '10k': None,\n",
    "            '25k': None,\n",
    "            '50k': None,\n",
    "            '75k': None,\n",
    "            '100k': None\n",
    "        }\n",
    "    },\n",
    "    \"document_length\": {\n",
    "        \"global\":{\n",
    "            '1-20': None,\n",
    "            '20-30': None,\n",
    "            '30-40': None,\n",
    "            '40-50': None,\n",
    "            '50-60': None,\n",
    "            '60-70': None,\n",
    "            '70-80': None,\n",
    "            '80-90': None,\n",
    "            '90-100': None\n",
    "        },\n",
    "        \"no_global\": {\n",
    "            '1-20': None,\n",
    "            '20-30': None,\n",
    "            '30-40': None,\n",
    "            '40-50': None,\n",
    "            '50-60': None,\n",
    "            '60-70': None,\n",
    "            '70-80': None,\n",
    "            '80-90': None,\n",
    "            '90-100': None\n",
    "        }\n",
    "    }\n",
    "}\n",
    "\n",
    "method_1_native_execution_results_threads_12 = {\n",
    "    \"document_size\": {\n",
    "        \"global\":{\n",
    "            '1k': None,\n",
    "            '10k': None,\n",
    "            '25k': None,\n",
    "            '50k': None,\n",
    "            '75k': None,\n",
    "            '100k': None\n",
    "        },\n",
    "        \"no_global\": {\n",
    "            '1k': None,\n",
    "            '10k': None,\n",
    "            '25k': None,\n",
    "            '50k': None,\n",
    "            '75k': None,\n",
    "            '100k': None\n",
    "        }\n",
    "    },\n",
    "    \"document_length\": {\n",
    "        \"global\":{\n",
    "            '1-20': None,\n",
    "            '20-30': None,\n",
    "            '30-40': None,\n",
    "            '40-50': None,\n",
    "            '50-60': None,\n",
    "            '60-70': None,\n",
    "            '70-80': None,\n",
    "            '80-90': None,\n",
    "            '90-100': None\n",
    "        },\n",
    "        \"no_global\": {\n",
    "            '1-20': None,\n",
    "            '20-30': None,\n",
    "            '30-40': None,\n",
    "            '40-50': None,\n",
    "            '50-60': None,\n",
    "            '60-70': None,\n",
    "            '70-80': None,\n",
    "            '80-90': None,\n",
    "            '90-100': None\n",
    "        }\n",
    "    }\n",
    "}"
   ]
  },
  {
   "cell_type": "code",
   "execution_count": 12,
   "metadata": {},
   "outputs": [],
   "source": [
    "# Different methods for instance in and instance out method\n",
    "\n",
    "def native_lemma_with_global(corpus_list):\n",
    "    global globalLemmaInstance\n",
    "    return [globalLemmaInstance.lemmatize(w) for w in corpus_list]\n",
    "\n",
    "def native_lemma_no_global(corpus_list):\n",
    "    return [WordNetLemmatizer().lemmatize(w) for w in corpus_list]"
   ]
  },
  {
   "cell_type": "code",
   "execution_count": 13,
   "metadata": {},
   "outputs": [],
   "source": [
    "def allocate_function(df, option):\n",
    "    if option == \"global\":\n",
    "        df['corpus'].apply(native_lemma_with_global)\n",
    "    else:\n",
    "        df['corpus'].apply(native_lemma_no_global)\n",
    "    return None"
   ]
  },
  {
   "cell_type": "code",
   "execution_count": 14,
   "metadata": {},
   "outputs": [
    {
     "name": "stdout",
     "output_type": "stream",
     "text": [
      "1\n",
      "document_size global 1k\n",
      "TIME =>  1.6871833801269531\n",
      "document_size global 10k\n",
      "TIME =>  0.22440028190612793\n",
      "document_size global 25k\n",
      "TIME =>  0.5505237579345703\n",
      "document_size global 50k\n",
      "TIME =>  1.706441879272461\n",
      "document_size global 75k\n",
      "TIME =>  1.6296412944793701\n",
      "document_size global 100k\n",
      "TIME =>  2.17138671875\n",
      "document_size no_global 1k\n",
      "TIME =>  0.024939537048339844\n",
      "document_size no_global 10k\n",
      "TIME =>  0.2291874885559082\n",
      "document_size no_global 25k\n",
      "TIME =>  0.8447411060333252\n",
      "document_size no_global 50k\n",
      "TIME =>  1.138918161392212\n",
      "document_size no_global 75k\n",
      "TIME =>  1.6982083320617676\n",
      "document_size no_global 100k\n",
      "TIME =>  2.569162130355835\n",
      "document_length global 1-20\n",
      "TIME =>  0.05288100242614746\n",
      "document_length global 20-30\n",
      "TIME =>  0.13167905807495117\n",
      "document_length global 30-40\n",
      "TIME =>  0.2932395935058594\n",
      "document_length global 40-50\n",
      "TIME =>  0.3104534149169922\n",
      "document_length global 50-60\n",
      "TIME =>  0.3092060089111328\n",
      "document_length global 60-70\n",
      "TIME =>  0.35887861251831055\n",
      "document_length global 70-80\n",
      "TIME =>  0.4689013957977295\n",
      "document_length global 80-90\n",
      "TIME =>  0.47585320472717285\n",
      "document_length global 90-100\n",
      "TIME =>  0.5136044025421143\n",
      "document_length no_global 1-20\n",
      "TIME =>  0.04687356948852539\n",
      "document_length no_global 20-30\n",
      "TIME =>  0.13662290573120117\n",
      "document_length no_global 30-40\n",
      "TIME =>  0.20046186447143555\n",
      "document_length no_global 40-50\n",
      "TIME =>  0.25087976455688477\n",
      "document_length no_global 50-60\n",
      "TIME =>  0.3068504333496094\n",
      "document_length no_global 60-70\n",
      "TIME =>  0.3644566535949707\n",
      "document_length no_global 70-80\n",
      "TIME =>  0.608344554901123\n",
      "document_length no_global 80-90\n",
      "TIME =>  0.4727332592010498\n",
      "document_length no_global 90-100\n",
      "TIME =>  0.5263440608978271\n",
      "6\n",
      "document_size global 1k\n",
      "TIME =>  0.025931358337402344\n",
      "document_size global 10k\n",
      "TIME =>  0.23737025260925293\n",
      "document_size global 25k\n",
      "TIME =>  0.6024236679077148\n",
      "document_size global 50k\n",
      "TIME =>  1.222982406616211\n",
      "document_size global 75k\n",
      "TIME =>  1.799208402633667\n",
      "document_size global 100k\n",
      "TIME =>  2.7255349159240723\n",
      "document_size no_global 1k\n",
      "TIME =>  0.026931285858154297\n",
      "document_size no_global 10k\n",
      "TIME =>  0.26330065727233887\n",
      "document_size no_global 25k\n",
      "TIME =>  0.6432740688323975\n",
      "document_size no_global 50k\n",
      "TIME =>  1.4015753269195557\n",
      "document_size no_global 75k\n",
      "TIME =>  2.345780849456787\n",
      "document_size no_global 100k\n",
      "TIME =>  2.6611828804016113\n",
      "document_length global 1-20\n",
      "TIME =>  0.04887247085571289\n",
      "document_length global 20-30\n",
      "TIME =>  0.14660239219665527\n",
      "document_length global 30-40\n",
      "TIME =>  0.204420804977417\n",
      "document_length global 40-50\n",
      "TIME =>  0.2593400478363037\n",
      "document_length global 50-60\n",
      "TIME =>  0.3175034523010254\n",
      "document_length global 60-70\n",
      "TIME =>  0.38820457458496094\n",
      "document_length global 70-80\n",
      "TIME =>  0.5671007633209229\n",
      "document_length global 80-90\n",
      "TIME =>  0.4957089424133301\n",
      "document_length global 90-100\n",
      "TIME =>  0.5547075271606445\n",
      "document_length no_global 1-20\n",
      "TIME =>  0.05581951141357422\n",
      "document_length no_global 20-30\n",
      "TIME =>  0.14760446548461914\n",
      "document_length no_global 30-40\n",
      "TIME =>  0.22137141227722168\n",
      "document_length no_global 40-50\n",
      "TIME =>  0.2760465145111084\n",
      "document_length no_global 50-60\n",
      "TIME =>  0.38045811653137207\n",
      "document_length no_global 60-70\n",
      "TIME =>  0.46579480171203613\n",
      "document_length no_global 70-80\n",
      "TIME =>  0.4766244888305664\n",
      "document_length no_global 80-90\n",
      "TIME =>  0.5536677837371826\n",
      "document_length no_global 90-100\n",
      "TIME =>  0.6541566848754883\n",
      "12\n",
      "document_size global 1k\n",
      "TIME =>  0.0361638069152832\n",
      "document_size global 10k\n",
      "TIME =>  0.32592177391052246\n",
      "document_size global 25k\n",
      "TIME =>  0.6912047863006592\n",
      "document_size global 50k\n",
      "TIME =>  1.3947257995605469\n",
      "document_size global 75k\n",
      "TIME =>  2.312098503112793\n",
      "document_size global 100k\n",
      "TIME =>  2.4764997959136963\n",
      "document_size no_global 1k\n",
      "TIME =>  0.03191637992858887\n",
      "document_size no_global 10k\n",
      "TIME =>  0.27312374114990234\n",
      "document_size no_global 25k\n",
      "TIME =>  0.6509137153625488\n",
      "document_size no_global 50k\n",
      "TIME =>  1.2660713195800781\n",
      "document_size no_global 75k\n",
      "TIME =>  2.33183217048645\n",
      "document_size no_global 100k\n",
      "TIME =>  2.7051641941070557\n",
      "document_length global 1-20\n",
      "TIME =>  0.0533907413482666\n",
      "document_length global 20-30\n",
      "TIME =>  0.13682198524475098\n",
      "document_length global 30-40\n",
      "TIME =>  0.20642375946044922\n",
      "document_length global 40-50\n",
      "TIME =>  0.2538034915924072\n",
      "document_length global 50-60\n",
      "TIME =>  0.29676294326782227\n",
      "document_length global 60-70\n",
      "TIME =>  0.39255404472351074\n",
      "document_length global 70-80\n",
      "TIME =>  0.4196312427520752\n",
      "document_length global 80-90\n",
      "TIME =>  0.49871349334716797\n",
      "document_length global 90-100\n",
      "TIME =>  0.5847592353820801\n",
      "document_length no_global 1-20\n",
      "TIME =>  0.07393264770507812\n",
      "document_length no_global 20-30\n",
      "TIME =>  0.15949010848999023\n",
      "document_length no_global 30-40\n",
      "TIME =>  0.21594905853271484\n",
      "document_length no_global 40-50\n",
      "TIME =>  0.29111337661743164\n",
      "document_length no_global 50-60\n",
      "TIME =>  0.33746886253356934\n",
      "document_length no_global 60-70\n",
      "TIME =>  0.40846896171569824\n",
      "document_length no_global 70-80\n",
      "TIME =>  0.480255126953125\n",
      "document_length no_global 80-90\n",
      "TIME =>  0.5241315364837646\n",
      "document_length no_global 90-100\n",
      "TIME =>  0.5748586654663086\n"
     ]
    }
   ],
   "source": [
    "def method_1_execution():\n",
    "    result_variabels = {1: method_1_native_execution_results_threads_1, \n",
    "               6: method_1_native_execution_results_threads_6, \n",
    "               12: method_1_native_execution_results_threads_12}\n",
    "    \n",
    "    for param, results in result_variabels.items():\n",
    "        print(param)\n",
    "        for methodology_name, methodology in results.items():\n",
    "            for option_name, option in methodology.items():\n",
    "                for subset_name, time in option.items():\n",
    "                    subset = None\n",
    "                    if methodology_name == \"document_size\":\n",
    "                        subset = subset_varying_documents\n",
    "                        subset_size = int(str(subset_name).replace('k', '000'))\n",
    "                        if int(subset.shape[0]) > subset_size:\n",
    "                            subset = subset.drop(subset.tail(subset.shape[0]-subset_size).index,inplace=False)\n",
    "                    elif methodology_name == \"document_length\":\n",
    "                        subset = subset_varying_wordLength[subset_name]\n",
    "                    # Divide subset in subsequent sets for multithreaded processing\n",
    "                    subset = np.array_split(subset, param)\n",
    "                    # Execute code\n",
    "                    threadList = []\n",
    "                    for sub_subset in subset:\n",
    "                        threadList.append(Thread(target=allocate_function, args=(sub_subset, option_name,)))\n",
    "                    # Start timing\n",
    "                    start_time = curr_time()\n",
    "                    [t.start() for t in threadList]\n",
    "                    [t.join() for t in threadList]\n",
    "                    # Wait for all threads to be finished\n",
    "                    end_time = curr_time()\n",
    "                    total_time = end_time-start_time\n",
    "                    # Print results\n",
    "                    print(methodology_name, option_name, subset_name)\n",
    "                    print(\"TIME => \", end_time-start_time)\n",
    "                    results[methodology_name][option_name][subset_name] = total_time\n",
    "                    \n",
    "method_1_execution()"
   ]
  },
  {
   "cell_type": "code",
   "execution_count": 17,
   "metadata": {},
   "outputs": [
    {
     "data": {
      "text/plain": [
       "{'document_size': {'global': {'1k': 2.0635018348693848,\n",
       "   '10k': 0.23151087760925293,\n",
       "   '25k': 0.9166853427886963,\n",
       "   '50k': 1.514270544052124,\n",
       "   '75k': 2.215592384338379,\n",
       "   '100k': 3.3148200511932373},\n",
       "  'no_global': {'1k': 0.03027033805847168,\n",
       "   '10k': 0.44136571884155273,\n",
       "   '25k': 0.7835352420806885,\n",
       "   '50k': 1.5565781593322754,\n",
       "   '75k': 2.406491994857788,\n",
       "   '100k': 3.5768182277679443}},\n",
       " 'document_length': {'global': {'1-20': 0.06361556053161621,\n",
       "   '20-30': 0.1892855167388916,\n",
       "   '30-40': 0.2698187828063965,\n",
       "   '40-50': 0.34710168838500977,\n",
       "   '50-60': 0.4178917407989502,\n",
       "   '60-70': 0.4782836437225342,\n",
       "   '70-80': 0.5631232261657715,\n",
       "   '80-90': 0.6974043846130371,\n",
       "   '90-100': 0.730827808380127},\n",
       "  'no_global': {'1-20': 0.061629533767700195,\n",
       "   '20-30': 0.19988727569580078,\n",
       "   '30-40': 0.32787156105041504,\n",
       "   '40-50': 0.3567626476287842,\n",
       "   '50-60': 0.42339587211608887,\n",
       "   '60-70': 0.4819643497467041,\n",
       "   '70-80': 0.6068432331085205,\n",
       "   '80-90': 0.6174502372741699,\n",
       "   '90-100': 0.5472819805145264}}}"
      ]
     },
     "execution_count": 17,
     "metadata": {},
     "output_type": "execute_result"
    }
   ],
   "source": [
    "method_1_native_execution_results_threads_1"
   ]
  },
  {
   "cell_type": "markdown",
   "metadata": {},
   "source": [
    "# METHOD 2: Dask and Spark"
   ]
  },
  {
   "cell_type": "markdown",
   "metadata": {},
   "source": [
    "Convert the pandas DataFrame to a Spark DataFrame with the createDataFrame method. Remember using the createDataFrame method to convert an RDD to a Spark DataFrame?"
   ]
  },
  {
   "cell_type": "code",
   "execution_count": 18,
   "metadata": {},
   "outputs": [],
   "source": [
    "method_2_spark = {\n",
    "    \"document_size\": {\n",
    "        \"global\":{\n",
    "            '1k': None,\n",
    "            '10k': None,\n",
    "            '25k': None,\n",
    "            '50k': None,\n",
    "            '75k': None,\n",
    "            '100k': None\n",
    "        },\n",
    "        \"no_global\": {\n",
    "            '1k': None,\n",
    "            '10k': None,\n",
    "            '25k': None,\n",
    "            '50k': None,\n",
    "            '75k': None,\n",
    "            '100k': None\n",
    "        }\n",
    "    },\n",
    "    \"document_length\": {\n",
    "        \"global\":{\n",
    "            '1-20': None,\n",
    "            '20-30': None,\n",
    "            '30-40': None,\n",
    "            '40-50': None,\n",
    "            '50-60': None,\n",
    "            '60-70': None,\n",
    "            '70-80': None,\n",
    "            '80-90': None,\n",
    "            '90-100': None\n",
    "        },\n",
    "        \"no_global\": {\n",
    "            '1-20': None,\n",
    "            '20-30': None,\n",
    "            '30-40': None,\n",
    "            '40-50': None,\n",
    "            '50-60': None,\n",
    "            '60-70': None,\n",
    "            '70-80': None,\n",
    "            '80-90': None,\n",
    "            '90-100': None\n",
    "        }\n",
    "    }\n",
    "}\n",
    "\n",
    "method_2_dask = {\n",
    "    \"document_size\": {\n",
    "        \"global\":{\n",
    "            '1k': None,\n",
    "            '10k': None,\n",
    "            '25k': None,\n",
    "            '50k': None,\n",
    "            '75k': None,\n",
    "            '100k': None\n",
    "        },\n",
    "        \"no_global\": {\n",
    "            '1k': None,\n",
    "            '10k': None,\n",
    "            '25k': None,\n",
    "            '50k': None,\n",
    "            '75k': None,\n",
    "            '100k': None\n",
    "        }\n",
    "    },\n",
    "    \"document_length\": {\n",
    "        \"global\":{\n",
    "            '1-20': None,\n",
    "            '20-30': None,\n",
    "            '30-40': None,\n",
    "            '40-50': None,\n",
    "            '50-60': None,\n",
    "            '60-70': None,\n",
    "            '70-80': None,\n",
    "            '80-90': None,\n",
    "            '90-100': None\n",
    "        },\n",
    "        \"no_global\": {\n",
    "            '1-20': None,\n",
    "            '20-30': None,\n",
    "            '30-40': None,\n",
    "            '40-50': None,\n",
    "            '50-60': None,\n",
    "            '60-70': None,\n",
    "            '70-80': None,\n",
    "            '80-90': None,\n",
    "            '90-100': None\n",
    "        }\n",
    "    }\n",
    "}"
   ]
  },
  {
   "cell_type": "code",
   "execution_count": 19,
   "metadata": {},
   "outputs": [],
   "source": [
    "def allocate_function_dask(df, option):\n",
    "    if option == \"global\":\n",
    "        df['corpus'].apply(native_lemma_with_global, meta=('corpus', 'object'))\n",
    "    else:\n",
    "        df['corpus'].apply(native_lemma_no_global, meta=('corpus', 'object'))\n",
    "    return None\n",
    "\n",
    "def allocate_function_spark(df, option):\n",
    "    if option == \"global\":\n",
    "        df.rdd.map(native_lemma_with_global)\n",
    "    else:\n",
    "        df.rdd.map(native_lemma_no_global)\n",
    "    return None"
   ]
  },
  {
   "cell_type": "code",
   "execution_count": 20,
   "metadata": {},
   "outputs": [
    {
     "name": "stdout",
     "output_type": "stream",
     "text": [
      "dask\n",
      "document_size global 1k\n",
      "TIME =>  0.0016682147979736328\n",
      "document_size global 10k\n",
      "TIME =>  0.0\n",
      "document_size global 25k\n",
      "TIME =>  0.0\n",
      "document_size global 50k\n",
      "TIME =>  0.000997781753540039\n",
      "document_size global 75k\n",
      "TIME =>  0.0009975433349609375\n",
      "document_size global 100k\n",
      "TIME =>  0.001993894577026367\n",
      "document_size no_global 1k\n",
      "TIME =>  0.0009996891021728516\n",
      "document_size no_global 10k\n",
      "TIME =>  0.0009965896606445312\n",
      "document_size no_global 25k\n",
      "TIME =>  0.000997304916381836\n",
      "document_size no_global 50k\n",
      "TIME =>  0.002034902572631836\n",
      "document_size no_global 75k\n",
      "TIME =>  0.0019948482513427734\n",
      "document_size no_global 100k\n",
      "TIME =>  0.0019943714141845703\n",
      "document_length global 1-20\n",
      "TIME =>  0.000997304916381836\n",
      "document_length global 20-30\n",
      "TIME =>  0.0020220279693603516\n",
      "document_length global 30-40\n",
      "TIME =>  0.0009992122650146484\n",
      "document_length global 40-50\n",
      "TIME =>  0.0010256767272949219\n",
      "document_length global 50-60\n",
      "TIME =>  0.000997304916381836\n",
      "document_length global 60-70\n",
      "TIME =>  0.001994609832763672\n",
      "document_length global 70-80\n",
      "TIME =>  0.0009965896606445312\n",
      "document_length global 80-90\n",
      "TIME =>  0.0019943714141845703\n",
      "document_length global 90-100\n",
      "TIME =>  0.000997781753540039\n",
      "document_length no_global 1-20\n",
      "TIME =>  0.0019943714141845703\n",
      "document_length no_global 20-30\n",
      "TIME =>  0.000997304916381836\n",
      "document_length no_global 30-40\n",
      "TIME =>  0.0009958744049072266\n",
      "document_length no_global 40-50\n",
      "TIME =>  0.0009975433349609375\n",
      "document_length no_global 50-60\n",
      "TIME =>  0.0009982585906982422\n",
      "document_length no_global 60-70\n",
      "TIME =>  0.0009984970092773438\n",
      "document_length no_global 70-80\n",
      "TIME =>  0.0019669532775878906\n",
      "document_length no_global 80-90\n",
      "TIME =>  0.0009975433349609375\n",
      "document_length no_global 90-100\n",
      "TIME =>  0.001991748809814453\n",
      "spark\n",
      "document_size global 1k\n",
      "TIME =>  0.6368584632873535\n",
      "document_size global 10k\n",
      "TIME =>  0.031242847442626953\n",
      "document_size global 25k\n",
      "TIME =>  0.031241893768310547\n",
      "document_size global 50k\n",
      "TIME =>  0.015621185302734375\n",
      "document_size global 75k\n",
      "TIME =>  0.015621185302734375\n",
      "document_size global 100k\n",
      "TIME =>  0.03233766555786133\n",
      "document_size no_global 1k\n",
      "TIME =>  0.015621662139892578\n",
      "document_size no_global 10k\n",
      "TIME =>  0.031243562698364258\n",
      "document_size no_global 25k\n",
      "TIME =>  0.02094411849975586\n",
      "document_size no_global 50k\n",
      "TIME =>  0.01795196533203125\n",
      "document_size no_global 75k\n",
      "TIME =>  0.022714614868164062\n",
      "document_size no_global 100k\n",
      "TIME =>  0.01670980453491211\n",
      "document_length global 1-20\n",
      "TIME =>  0.031241893768310547\n",
      "document_length global 20-30\n",
      "TIME =>  0.01004934310913086\n",
      "document_length global 30-40\n",
      "TIME =>  0.031281471252441406\n",
      "document_length global 40-50\n",
      "TIME =>  0.02393651008605957\n",
      "document_length global 50-60\n",
      "TIME =>  0.015622377395629883\n",
      "document_length global 60-70\n",
      "TIME =>  0.020062923431396484\n",
      "document_length global 70-80\n",
      "TIME =>  0.030259370803833008\n",
      "document_length global 80-90\n",
      "TIME =>  0.01817154884338379\n",
      "document_length global 90-100\n",
      "TIME =>  0.01559901237487793\n",
      "document_length no_global 1-20\n",
      "TIME =>  0.0030214786529541016\n",
      "document_length no_global 20-30\n",
      "TIME =>  0.015620946884155273\n",
      "document_length no_global 30-40\n",
      "TIME =>  0.01994633674621582\n",
      "document_length no_global 40-50\n",
      "TIME =>  0.019974231719970703\n",
      "document_length no_global 50-60\n",
      "TIME =>  0.03239774703979492\n",
      "document_length no_global 60-70\n",
      "TIME =>  0.03121495246887207\n",
      "document_length no_global 70-80\n",
      "TIME =>  0.015650510787963867\n",
      "document_length no_global 80-90\n",
      "TIME =>  0.015620708465576172\n",
      "document_length no_global 90-100\n",
      "TIME =>  0.010101079940795898\n"
     ]
    }
   ],
   "source": [
    "def method_2_execution():\n",
    "    result_variabels = {\"dask\": method_2_dask, \"spark\": method_2_spark}\n",
    "    \n",
    "    for library, results in result_variabels.items():\n",
    "        print(library)\n",
    "        for methodology_name, methodology in results.items():\n",
    "            for option_name, option in methodology.items():\n",
    "                for subset_name, time in option.items():\n",
    "                    subset = None\n",
    "                    if methodology_name == \"document_size\":\n",
    "                        subset = subset_varying_documents\n",
    "                        subset_size = int(str(subset_name).replace('k', '000'))\n",
    "                        if int(subset.shape[0]) > subset_size:\n",
    "                            subset = subset.drop(subset.tail(subset.shape[0]-subset_size).index,inplace=False)\n",
    "                    elif methodology_name == \"document_length\":\n",
    "                        subset = subset_varying_wordLength[subset_name]\n",
    "                    # Load engine into corresponding library\n",
    "                    start_time = None\n",
    "                    if library == \"dask\":\n",
    "                        subset = dd.from_pandas(subset, 6)\n",
    "                        # Start timing\n",
    "                        start_time = curr_time()\n",
    "                        # Dask method\n",
    "                        allocate_function_dask(subset, option_name)\n",
    "                    elif library == \"spark\":\n",
    "                        subset = spark.createDataFrame(subset)\n",
    "                        subset = subset.select(\"corpus\")\n",
    "                        # Start timing\n",
    "                        start_time = curr_time()\n",
    "                        # Spark method                    \n",
    "                        allocate_function_spark(subset, option_name)\n",
    "                    # Wait for all threads to be finished\n",
    "                    end_time = curr_time()\n",
    "                    total_time = end_time-start_time\n",
    "                    # Print results\n",
    "                    print(methodology_name, option_name, subset_name)\n",
    "                    print(\"TIME => \", end_time-start_time)\n",
    "                    results[methodology_name][option_name][subset_name] = float(total_time)\n",
    "                    \n",
    "method_2_execution()"
   ]
  },
  {
   "cell_type": "code",
   "execution_count": 22,
   "metadata": {},
   "outputs": [
    {
     "data": {
      "text/plain": [
       "{'document_size': {'global': {'1k': 0.6368584632873535,\n",
       "   '10k': 0.031242847442626953,\n",
       "   '25k': 0.031241893768310547,\n",
       "   '50k': 0.015621185302734375,\n",
       "   '75k': 0.015621185302734375,\n",
       "   '100k': 0.03233766555786133},\n",
       "  'no_global': {'1k': 0.015621662139892578,\n",
       "   '10k': 0.031243562698364258,\n",
       "   '25k': 0.02094411849975586,\n",
       "   '50k': 0.01795196533203125,\n",
       "   '75k': 0.022714614868164062,\n",
       "   '100k': 0.01670980453491211}},\n",
       " 'document_length': {'global': {'1-20': 0.031241893768310547,\n",
       "   '20-30': 0.01004934310913086,\n",
       "   '30-40': 0.031281471252441406,\n",
       "   '40-50': 0.02393651008605957,\n",
       "   '50-60': 0.015622377395629883,\n",
       "   '60-70': 0.020062923431396484,\n",
       "   '70-80': 0.030259370803833008,\n",
       "   '80-90': 0.01817154884338379,\n",
       "   '90-100': 0.01559901237487793},\n",
       "  'no_global': {'1-20': 0.0030214786529541016,\n",
       "   '20-30': 0.015620946884155273,\n",
       "   '30-40': 0.01994633674621582,\n",
       "   '40-50': 0.019974231719970703,\n",
       "   '50-60': 0.03239774703979492,\n",
       "   '60-70': 0.03121495246887207,\n",
       "   '70-80': 0.015650510787963867,\n",
       "   '80-90': 0.015620708465576172,\n",
       "   '90-100': 0.010101079940795898}}}"
      ]
     },
     "execution_count": 22,
     "metadata": {},
     "output_type": "execute_result"
    }
   ],
   "source": [
    "method_2_spark"
   ]
  },
  {
   "cell_type": "markdown",
   "metadata": {},
   "source": [
    "# Plots"
   ]
  },
  {
   "cell_type": "code",
   "execution_count": 16,
   "metadata": {},
   "outputs": [],
   "source": [
    "data = {\n",
    "    \"native_thread_1\": method_1_native_execution_results_threads_1,\n",
    "    \"native_thread_6\": method_1_native_execution_results_threads_6,\n",
    "    \"native_thread_12\": method_1_native_execution_results_threads_12,\n",
    "    \"dask\": method_2_dask,\n",
    "    \"spark\": method_2_spark\n",
    "}"
   ]
  },
  {
   "cell_type": "markdown",
   "metadata": {},
   "source": [
    "## Create plots for document length"
   ]
  },
  {
   "cell_type": "markdown",
   "metadata": {},
   "source": [
    "### Method 1 (native)"
   ]
  },
  {
   "cell_type": "code",
   "execution_count": 99,
   "metadata": {},
   "outputs": [
    {
     "data": {
      "image/png": "[encoded data removed]",
      "text/plain": [
       "<Figure size 1080x360 with 2 Axes>"
      ]
     },
     "metadata": {
      "needs_background": "light"
     },
     "output_type": "display_data"
    }
   ],
   "source": [
    "length = 6\n",
    "x_labels = list(data['native_thread_1']['document_size']['global'].keys())\n",
    "\n",
    "# Set plot parameters\n",
    "fig, (ax1, ax2) = plt.subplots(1, 2)\n",
    "# fig.suptitle(\"Measure time execution times for varying document sizes - Method 1\")\n",
    "fig.set_size_inches(15.0, 5.0, forward=True)\n",
    "width = 0.25 # width of bar\n",
    "\n",
    "x = np.arange(length)\n",
    "ax1.bar(x, np.asarray(list(data['native_thread_1']['document_size']['global'].values())), width, color='#9966ff', label='Threads (1)')\n",
    "ax1.bar(x + width, np.asarray(list(data['native_thread_6']['document_size']['global'].values())), width, color='#ff9933', label='Threads (6)')\n",
    "ax1.bar(x + (2 * width), np.asarray(list(data['native_thread_12']['document_size']['global'].values())), width, color='#80ffaa', label='Threads (12)')\n",
    "\n",
    "ax1.set_ylabel('Time in seconds')\n",
    "ax1.set_ylim(0,4)\n",
    "ax1.set_xticks(x + width + width/2 - 0.15)\n",
    "ax1.set_xticklabels(x_labels)\n",
    "ax1.set_xlabel('Document Size')\n",
    "ax1.set_title('Lemma object IN')\n",
    "ax1.legend()\n",
    "ax1.grid(True, 'major', 'y', ls='--', lw=.5, c='k', alpha=.3)\n",
    "\n",
    "ax2.bar(x, np.asarray(list(data['native_thread_1']['document_size']['no_global'].values())), width, color='#9966ff', label='Threads (1)')\n",
    "ax2.bar(x + width, np.asarray(list(data['native_thread_6']['document_size']['no_global'].values())), width, color='#ff9933', label='Threads (6)')\n",
    "ax2.bar(x + (2 * width), np.asarray(list(data['native_thread_12']['document_size']['no_global'].values())), width, color='#80ffaa', label='Threads (12)')\n",
    "\n",
    "ax2.set_ylabel('Time in seconds')\n",
    "ax2.set_ylim(0,4)\n",
    "ax2.set_xticks(x + width + width/2 - 0.15)\n",
    "ax2.set_xticklabels(x_labels)\n",
    "ax2.set_xlabel('Document Size')\n",
    "ax2.set_title('Lemma object OUT')\n",
    "ax2.legend()\n",
    "ax2.grid(True, 'major', 'y', ls='--', lw=.5, c='k', alpha=.3)"
   ]
  },
  {
   "cell_type": "markdown",
   "metadata": {},
   "source": [
    "### Big data"
   ]
  },
  {
   "cell_type": "code",
   "execution_count": 100,
   "metadata": {},
   "outputs": [
    {
     "data": {
      "image/png": "[encoded data removed]",
      "text/plain": [
       "<Figure size 1080x360 with 2 Axes>"
      ]
     },
     "metadata": {
      "needs_background": "light"
     },
     "output_type": "display_data"
    }
   ],
   "source": [
    "length = 6\n",
    "x_labels = list(data['dask']['document_size']['global'].keys())\n",
    "\n",
    "# Set plot parameters\n",
    "fig, (ax1, ax2) = plt.subplots(1, 2)\n",
    "# fig.suptitle(\"Measure time execution times for varying document sizes - Method 2\")\n",
    "fig.set_size_inches(15.0, 5.0, forward=True)\n",
    "width = 0.25 # width of bar\n",
    "\n",
    "x = np.arange(length)\n",
    "ax1.bar(x, np.asarray(list(data['dask']['document_size']['global'].values())), width, color='lightblue', label='Dask')\n",
    "ax1.bar(x + width, np.asarray(list(data['spark']['document_size']['global'].values())), width, color='#6699ff', label='Spark')\n",
    "\n",
    "ax1.set_ylabel('Time in seconds')\n",
    "ax1.set_xticks(x + width + width/2 - 0.15)\n",
    "ax1.set_xticklabels(x_labels)\n",
    "ax1.set_xlabel('Document Size')\n",
    "ax1.set_title('Lemma object IN')\n",
    "ax1.legend()\n",
    "ax1.grid(True, 'major', 'y', ls='--', lw=.5, c='k', alpha=.3)\n",
    "\n",
    "ax2.bar(x, np.asarray(list(data['dask']['document_size']['no_global'].values())), width, color='lightblue', label='Dask')\n",
    "ax2.bar(x + width, np.asarray(list(data['spark']['document_size']['no_global'].values())), width, color='#6699ff', label='Spark')\n",
    "\n",
    "ax2.set_ylabel('Time in milliseconds')\n",
    "ax2.set_xticks(x + width + width/2 - 0.15)\n",
    "ax2.set_xticklabels(x_labels)\n",
    "ax2.set_xlabel('Document Size')\n",
    "ax2.set_title('Lemma object OUT')\n",
    "ax2.legend()\n",
    "ax2.grid(True, 'major', 'y', ls='--', lw=.5, c='k', alpha=.3)"
   ]
  },
  {
   "cell_type": "code",
   "execution_count": 101,
   "metadata": {},
   "outputs": [
    {
     "data": {
      "image/png": "[encoded data removed]",
      "text/plain": [
       "<Figure size 540x360 with 1 Axes>"
      ]
     },
     "metadata": {
      "needs_background": "light"
     },
     "output_type": "display_data"
    }
   ],
   "source": [
    "length = 6\n",
    "x_labels = list(data['dask']['document_size']['global'].keys())\n",
    "\n",
    "# Set plot parameters\n",
    "fig, (ax1) = plt.subplots(1, 1)\n",
    "# fig.suptitle(\"Measure time execution times for varying document sizes - Method 2 - Dask Only\")\n",
    "fig.set_size_inches(7.5, 5.0, forward=True)\n",
    "width = 0.25 # width of bar\n",
    "\n",
    "x = np.arange(length)\n",
    "ax1.bar(x, np.asarray(list(data['dask']['document_size']['global'].values())), width, color='lightblue', label='Dask')\n",
    "# ax1.bar(x + width, np.asarray(list(data['spark']['document_size']['global'].values())), width, color='#6699ff', label='Spark')\n",
    "\n",
    "ax1.set_ylabel('Time in seconds')\n",
    "ax1.set_xticks(x)\n",
    "ax1.set_xticklabels(x_labels)\n",
    "ax1.set_xlabel('Document Size')\n",
    "ax1.set_title('Lemma object IN')\n",
    "ax1.legend()\n",
    "ax1.grid(True, 'major', 'y', ls='--', lw=.5, c='k', alpha=.3)"
   ]
  },
  {
   "cell_type": "markdown",
   "metadata": {},
   "source": [
    "## Create plots for document avg word sizes"
   ]
  },
  {
   "cell_type": "markdown",
   "metadata": {},
   "source": [
    "### Method 1 (native)"
   ]
  },
  {
   "cell_type": "code",
   "execution_count": 102,
   "metadata": {},
   "outputs": [
    {
     "data": {
      "image/png": "[encoded data removed]",
      "text/plain": [
       "<Figure size 1080x360 with 2 Axes>"
      ]
     },
     "metadata": {
      "needs_background": "light"
     },
     "output_type": "display_data"
    }
   ],
   "source": [
    "length = 9\n",
    "x_labels = list(data['native_thread_1']['document_length']['global'].keys())\n",
    "\n",
    "# Set plot parameters\n",
    "fig, (ax1, ax2) = plt.subplots(1, 2)\n",
    "# fig.suptitle(\"Measure time execution times for average document length (across 2k document size) - Method 1\")\n",
    "fig.set_size_inches(15.0, 5.0, forward=True)\n",
    "width = 0.25 # width of bar\n",
    "\n",
    "x = np.arange(length)\n",
    "ax1.bar(x, np.asarray(list(data['native_thread_1']['document_length']['global'].values())), width, color='#9966ff', label='Threads (1)')\n",
    "ax1.bar(x + width, np.asarray(list(data['native_thread_6']['document_length']['global'].values())), width, color='#ff9933', label='Threads (6)')\n",
    "ax1.bar(x + (2 * width), np.asarray(list(data['native_thread_12']['document_length']['global'].values())), width, color='#80ffaa', label='Threads (12)')\n",
    "\n",
    "ax1.set_ylabel('Time in milliseconds')\n",
    "ax1.set_xticks(x + width + width/2 - 0.15)\n",
    "ax1.set_xticklabels(x_labels)\n",
    "ax1.set_xlabel('Avg Document Length')\n",
    "ax1.set_title('Lemma object IN')\n",
    "ax1.legend()\n",
    "ax1.grid(True, 'major', 'y', ls='--', lw=.5, c='k', alpha=.3)\n",
    "\n",
    "ax2.bar(x, np.asarray(list(data['native_thread_1']['document_length']['no_global'].values())), width, color='#9966ff', label='Threads (1)')\n",
    "ax2.bar(x + width, np.asarray(list(data['native_thread_6']['document_length']['no_global'].values())), width, color='#ff9933', label='Threads (6)')\n",
    "ax2.bar(x + (2 * width), np.asarray(list(data['native_thread_12']['document_length']['no_global'].values())), width, color='#80ffaa', label='Threads (12)')\n",
    "\n",
    "ax2.set_ylabel('Time in milliseconds')\n",
    "ax2.set_xticks(x + width + width/2 - 0.15)\n",
    "ax2.set_xticklabels(x_labels)\n",
    "ax2.set_xlabel('Avg Document Length')\n",
    "ax2.set_title('Lemma object OUT')\n",
    "ax2.legend()\n",
    "ax2.grid(True, 'major', 'y', ls='--', lw=.5, c='k', alpha=.3)"
   ]
  },
  {
   "cell_type": "markdown",
   "metadata": {},
   "source": [
    "### Method 2 (big data)"
   ]
  },
  {
   "cell_type": "code",
   "execution_count": 103,
   "metadata": {},
   "outputs": [
    {
     "data": {
      "image/png": "[encoded data removed]",
      "text/plain": [
       "<Figure size 1080x360 with 2 Axes>"
      ]
     },
     "metadata": {
      "needs_background": "light"
     },
     "output_type": "display_data"
    }
   ],
   "source": [
    "length = 9\n",
    "x_labels = list(data['dask']['document_length']['global'].keys())\n",
    "\n",
    "# Set plot parameters\n",
    "fig, (ax1, ax2) = plt.subplots(1, 2)\n",
    "# fig.suptitle(\"Measure time execution times for average document length (across 2k document size) - Method 2\")\n",
    "fig.set_size_inches(15.0, 5.0, forward=True)\n",
    "width = 0.25 # width of bar\n",
    "\n",
    "x = np.arange(length)\n",
    "ax1.bar(x, np.asarray(list(data['dask']['document_length']['global'].values())), width, color='lightblue', label='Dask')\n",
    "ax1.bar(x + width, np.asarray(list(data['spark']['document_length']['global'].values())), width, color='#6699ff', label='Spark')\n",
    "\n",
    "ax1.set_ylabel('Time in milliseconds')\n",
    "ax1.set_xticks(x + width + width/2 - 0.15)\n",
    "ax1.set_xticklabels(x_labels)\n",
    "ax1.set_xlabel('Avg Document Length')\n",
    "ax1.set_title('Lemma object IN')\n",
    "ax1.legend()\n",
    "ax1.grid(True, 'major', 'y', ls='--', lw=.5, c='k', alpha=.3)\n",
    "\n",
    "ax2.bar(x, np.asarray(list(data['dask']['document_length']['no_global'].values())), width, color='lightblue', label='Dask')\n",
    "ax2.bar(x + width, np.asarray(list(data['spark']['document_length']['no_global'].values())), width, color='#6699ff', label='Spark')\n",
    "\n",
    "ax2.set_ylabel('Time in milliseconds')\n",
    "ax2.set_xticks(x + width + width/2 - 0.15)\n",
    "ax2.set_xticklabels(x_labels)\n",
    "ax2.set_xlabel('Avg Document Length')\n",
    "ax2.set_title('Lemma object OUT')\n",
    "ax2.legend()\n",
    "ax2.grid(True, 'major', 'y', ls='--', lw=.5, c='k', alpha=.3)"
   ]
  }
 ],
 "metadata": {
  "kernelspec": {
   "display_name": "Python 3",
   "language": "python",
   "name": "python3"
  },
  "language_info": {
   "codemirror_mode": {
    "name": "ipython",
    "version": 3
   },
   "file_extension": ".py",
   "mimetype": "text/x-python",
   "name": "python",
   "nbconvert_exporter": "python",
   "pygments_lexer": "ipython3",
   "version": "3.7.4"
  }
 },
 "nbformat": 4,
 "nbformat_minor": 2
}

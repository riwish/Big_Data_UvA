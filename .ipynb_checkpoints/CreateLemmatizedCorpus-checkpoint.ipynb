{
 "cells": [
  {
   "cell_type": "markdown",
   "metadata": {},
   "source": [
    "This notebook is an implementation of the methodology as described in the paper (*Building a Lemmatized corpus from documents varying in volume and average word length*). "
   ]
  },
  {
   "cell_type": "code",
   "execution_count": 2,
   "metadata": {},
   "outputs": [
    {
     "name": "stderr",
     "output_type": "stream",
     "text": [
      "[nltk_data] Downloading package wordnet to\n",
      "[nltk_data]     C:\\Users\\Gebruiker\\AppData\\Roaming\\nltk_data...\n",
      "[nltk_data]   Package wordnet is already up-to-date!\n"
     ]
    }
   ],
   "source": [
    "import os\n",
    "import sys\n",
    "import json\n",
    "import nltk\n",
    "import string\n",
    "import dask import dataframe as dd\n",
    "import pandas as pd\n",
    "import numpy as np\n",
    "import matplotlib.pyplot as plt\n",
    "from time import time as curr_time\n",
    "from multiprocessing import cpu_count\n",
    "from threading import Thread\n",
    "from tqdm.notebook import tqdm\n",
    "from nltk.stem import WordNetLemmatizer\n",
    "from nltk import word_tokenize\n",
    "\n",
    "import findspark\n",
    "findspark.init('C:/Users/Gebruiker/Desktop/spark/spark-3.0.0-preview2-bin-hadoop2.7')\n",
    "import pyspark\n",
    "findspark.find()\n",
    "\n",
    "from pyspark import SparkContext, SparkConf\n",
    "from pyspark.sql import SparkSession\n",
    "conf = pyspark.SparkConf().setAppName('appName').setMaster('local')\n",
    "sc = pyspark.SparkContext(conf=conf)\n",
    "spark = SparkSession(sc)\n",
    "\n",
    "nltk.download('wordnet')\n",
    "\n",
    "curr_dir = os.getcwd()\n",
    "\n",
    "%matplotlib inline"
   ]
  },
  {
   "cell_type": "markdown",
   "metadata": {},
   "source": [
    "# Load Dataset\n",
    "The implementation of the paper will be performed on a 200k English plaintext jokes dataset. (clone the repository from: https://github.com/taivop/joke-dataset and discard any files other than the .json ones)."
   ]
  },
  {
   "cell_type": "code",
   "execution_count": 5,
   "metadata": {},
   "outputs": [],
   "source": [
    "def read_data(global_df, filepath=[\"reddit\", \"stupidstuff\", \"wocka\"]):\n",
    "    for file in filepath: \n",
    "        print(file)\n",
    "        with open(os.path.join(curr_dir, \"dataset\", file+\".json\")) as json_file:\n",
    "            jokes = json.load(json_file)\n",
    "            for joke in tqdm(jokes):\n",
    "                global_df = global_df.append({'corpus': joke['body']}, ignore_index=True)\n",
    "    return global_df"
   ]
  },
  {
   "cell_type": "code",
   "execution_count": 3,
   "metadata": {},
   "outputs": [],
   "source": [
    "global_df = pd.DataFrame({'corpus': []})\n",
    "\n",
    "if not os.path.exists(os.path.join(curr_dir, \"raw_df.pkl\")):\n",
    "    global_df = read_data(global_df)\n",
    "else:\n",
    "    global_df = pd.read_pickle(\"tokenized_df.pkl\")"
   ]
  },
  {
   "cell_type": "code",
   "execution_count": 41,
   "metadata": {},
   "outputs": [],
   "source": [
    "#global_df.to_pickle(\"raw_df.pkl\")"
   ]
  },
  {
   "cell_type": "code",
   "execution_count": 3,
   "metadata": {},
   "outputs": [
    {
     "data": {
      "text/html": [
       "<div>\n",
       "<style scoped>\n",
       "    .dataframe tbody tr th:only-of-type {\n",
       "        vertical-align: middle;\n",
       "    }\n",
       "\n",
       "    .dataframe tbody tr th {\n",
       "        vertical-align: top;\n",
       "    }\n",
       "\n",
       "    .dataframe thead th {\n",
       "        text-align: right;\n",
       "    }\n",
       "</style>\n",
       "<table border=\"1\" class=\"dataframe\">\n",
       "  <thead>\n",
       "    <tr style=\"text-align: right;\">\n",
       "      <th></th>\n",
       "      <th>corpus</th>\n",
       "      <th>avg_word_length</th>\n",
       "    </tr>\n",
       "  </thead>\n",
       "  <tbody>\n",
       "    <tr>\n",
       "      <td>0</td>\n",
       "      <td>[Now, I, have, to, say, , Leroy, can, you, ple...</td>\n",
       "      <td>15</td>\n",
       "    </tr>\n",
       "    <tr>\n",
       "      <td>1</td>\n",
       "      <td>[Pizza, does, nt, scream, when, you, put, it, ...</td>\n",
       "      <td>17</td>\n",
       "    </tr>\n",
       "    <tr>\n",
       "      <td>2</td>\n",
       "      <td>[, and, being, there, really, helped, me, lear...</td>\n",
       "      <td>42</td>\n",
       "    </tr>\n",
       "    <tr>\n",
       "      <td>3</td>\n",
       "      <td>[A, Sunday, school, teacher, is, concerned, th...</td>\n",
       "      <td>126</td>\n",
       "    </tr>\n",
       "    <tr>\n",
       "      <td>4</td>\n",
       "      <td>[He, got, caught, trying, to, sell, the, two, ...</td>\n",
       "      <td>13</td>\n",
       "    </tr>\n",
       "  </tbody>\n",
       "</table>\n",
       "</div>"
      ],
      "text/plain": [
       "                                              corpus  avg_word_length\n",
       "0  [Now, I, have, to, say, , Leroy, can, you, ple...               15\n",
       "1  [Pizza, does, nt, scream, when, you, put, it, ...               17\n",
       "2  [, and, being, there, really, helped, me, lear...               42\n",
       "3  [A, Sunday, school, teacher, is, concerned, th...              126\n",
       "4  [He, got, caught, trying, to, sell, the, two, ...               13"
      ]
     },
     "execution_count": 3,
     "metadata": {},
     "output_type": "execute_result"
    }
   ],
   "source": [
    "global_df.head()"
   ]
  },
  {
   "cell_type": "code",
   "execution_count": 10,
   "metadata": {},
   "outputs": [],
   "source": [
    "# Tokenize every document\n",
    "global_df['corpus'] = global_df['corpus'].apply(lambda x : word_tokenize(x))"
   ]
  },
  {
   "cell_type": "code",
   "execution_count": 17,
   "metadata": {},
   "outputs": [],
   "source": [
    "# remove punctuation\n",
    "global_df['corpus'] = global_df['corpus'].apply(lambda x : [''.join(c for c in s if c not in string.punctuation) for s in x])"
   ]
  },
  {
   "cell_type": "code",
   "execution_count": 19,
   "metadata": {},
   "outputs": [],
   "source": [
    "# average word length\n",
    "global_df['avg_word_length'] = global_df['corpus'].apply(lambda x : len(x))"
   ]
  },
  {
   "cell_type": "code",
   "execution_count": 24,
   "metadata": {},
   "outputs": [],
   "source": [
    "#global_df.to_pickle(\"tokenized_df.pkl\")"
   ]
  },
  {
   "cell_type": "code",
   "execution_count": 4,
   "metadata": {},
   "outputs": [
    {
     "data": {
      "text/html": [
       "<div>\n",
       "<style scoped>\n",
       "    .dataframe tbody tr th:only-of-type {\n",
       "        vertical-align: middle;\n",
       "    }\n",
       "\n",
       "    .dataframe tbody tr th {\n",
       "        vertical-align: top;\n",
       "    }\n",
       "\n",
       "    .dataframe thead th {\n",
       "        text-align: right;\n",
       "    }\n",
       "</style>\n",
       "<table border=\"1\" class=\"dataframe\">\n",
       "  <thead>\n",
       "    <tr style=\"text-align: right;\">\n",
       "      <th></th>\n",
       "      <th>corpus</th>\n",
       "      <th>avg_word_length</th>\n",
       "    </tr>\n",
       "  </thead>\n",
       "  <tbody>\n",
       "    <tr>\n",
       "      <td>0</td>\n",
       "      <td>[Now, I, have, to, say, , Leroy, can, you, ple...</td>\n",
       "      <td>15</td>\n",
       "    </tr>\n",
       "    <tr>\n",
       "      <td>1</td>\n",
       "      <td>[Pizza, does, nt, scream, when, you, put, it, ...</td>\n",
       "      <td>17</td>\n",
       "    </tr>\n",
       "    <tr>\n",
       "      <td>2</td>\n",
       "      <td>[, and, being, there, really, helped, me, lear...</td>\n",
       "      <td>42</td>\n",
       "    </tr>\n",
       "    <tr>\n",
       "      <td>3</td>\n",
       "      <td>[A, Sunday, school, teacher, is, concerned, th...</td>\n",
       "      <td>126</td>\n",
       "    </tr>\n",
       "    <tr>\n",
       "      <td>4</td>\n",
       "      <td>[He, got, caught, trying, to, sell, the, two, ...</td>\n",
       "      <td>13</td>\n",
       "    </tr>\n",
       "  </tbody>\n",
       "</table>\n",
       "</div>"
      ],
      "text/plain": [
       "                                              corpus  avg_word_length\n",
       "0  [Now, I, have, to, say, , Leroy, can, you, ple...               15\n",
       "1  [Pizza, does, nt, scream, when, you, put, it, ...               17\n",
       "2  [, and, being, there, really, helped, me, lear...               42\n",
       "3  [A, Sunday, school, teacher, is, concerned, th...              126\n",
       "4  [He, got, caught, trying, to, sell, the, two, ...               13"
      ]
     },
     "execution_count": 4,
     "metadata": {},
     "output_type": "execute_result"
    }
   ],
   "source": [
    "global_df.head()"
   ]
  },
  {
   "cell_type": "code",
   "execution_count": 5,
   "metadata": {},
   "outputs": [
    {
     "data": {
      "text/plain": [
       "{'1-20': None,\n",
       " '20-30': None,\n",
       " '30-40': None,\n",
       " '40-50': None,\n",
       " '50-60': None,\n",
       " '60-70': None,\n",
       " '70-80': None,\n",
       " '80-90': None,\n",
       " '90-100': None}"
      ]
     },
     "execution_count": 5,
     "metadata": {},
     "output_type": "execute_result"
    }
   ],
   "source": [
    "subset_varying_wordLength = {}\n",
    "subset_varying_documents = None\n",
    "plot_number_of_documents = {}\n",
    "\n",
    "ranges = [1,20,30,40,50,60,70,80,90,100]\n",
    "\n",
    "for index, start_range in enumerate(ranges):\n",
    "    end_range = None\n",
    "    if index + 1 == len(ranges):\n",
    "        break\n",
    "    else:\n",
    "        end_range = ranges[index + 1]\n",
    "    subset_varying_wordLength[str(start_range) + '-' + str(end_range)] = None\n",
    "    plot_number_of_documents[str(start_range) + '-' + str(end_range)] = None\n",
    "    \n",
    "subset_varying_wordLength"
   ]
  },
  {
   "cell_type": "code",
   "execution_count": 6,
   "metadata": {},
   "outputs": [],
   "source": [
    "for subset in subset_varying_wordLength.keys():\n",
    "    start, end = subset.split('-')\n",
    "    subset_varying_wordLength[subset] = global_df[(global_df['avg_word_length'] > int(start)) & (global_df['avg_word_length'] < int(end))]\n",
    "\n",
    "subset_varying_documents = subset_varying_wordLength['1-20'].copy()"
   ]
  },
  {
   "cell_type": "code",
   "execution_count": 7,
   "metadata": {},
   "outputs": [
    {
     "name": "stderr",
     "output_type": "stream",
     "text": [
      "C:\\Users\\Gebruiker\\Anaconda3\\lib\\site-packages\\pandas\\core\\frame.py:4102: SettingWithCopyWarning: \n",
      "A value is trying to be set on a copy of a slice from a DataFrame\n",
      "\n",
      "See the caveats in the documentation: http://pandas.pydata.org/pandas-docs/stable/user_guide/indexing.html#returning-a-view-versus-a-copy\n",
      "  errors=errors,\n"
     ]
    }
   ],
   "source": [
    "for category, df in subset_varying_wordLength.items(): \n",
    "    num_rows = int(df.shape[0])\n",
    "    plot_number_of_documents[category] = num_rows\n",
    "    if num_rows > 2000:\n",
    "        df.drop(df.tail(num_rows-2000).index,inplace=True)"
   ]
  },
  {
   "cell_type": "code",
   "execution_count": 8,
   "metadata": {},
   "outputs": [
    {
     "name": "stdout",
     "output_type": "stream",
     "text": [
      "2000\n",
      "2000\n",
      "2000\n",
      "2000\n",
      "2000\n",
      "2000\n",
      "2000\n",
      "2000\n",
      "2000\n"
     ]
    }
   ],
   "source": [
    "# Check if all subsets do contain the same amount of rows\n",
    "for category, df in subset_varying_wordLength.items(): \n",
    "    print(df.shape[0])"
   ]
  },
  {
   "cell_type": "code",
   "execution_count": 9,
   "metadata": {},
   "outputs": [
    {
     "data": {
      "text/plain": [
       "{'1-20': 141335,\n",
       " '20-30': 12598,\n",
       " '30-40': 6928,\n",
       " '40-50': 5027,\n",
       " '50-60': 3753,\n",
       " '60-70': 3229,\n",
       " '70-80': 2804,\n",
       " '80-90': 2791,\n",
       " '90-100': 2380}"
      ]
     },
     "execution_count": 9,
     "metadata": {},
     "output_type": "execute_result"
    }
   ],
   "source": [
    "plot_number_of_documents"
   ]
  },
  {
   "cell_type": "code",
   "execution_count": 10,
   "metadata": {},
   "outputs": [
    {
     "data": {
      "text/plain": [
       "141335"
      ]
     },
     "execution_count": 10,
     "metadata": {},
     "output_type": "execute_result"
    }
   ],
   "source": [
    "subset_varying_documents.shape[0]"
   ]
  },
  {
   "cell_type": "code",
   "execution_count": 11,
   "metadata": {},
   "outputs": [
    {
     "data": {
      "image/png": "[encoded data removed]",
      "text/plain": [
       "<Figure size 432x288 with 1 Axes>"
      ]
     },
     "metadata": {
      "needs_background": "light"
     },
     "output_type": "display_data"
    }
   ],
   "source": [
    "plt.barh(range(len(plot_number_of_documents)), list(plot_number_of_documents.values()), align='center')\n",
    "plt.yticks(range(len(plot_number_of_documents)), list(plot_number_of_documents.keys()))\n",
    "plt.xlabel(\"Number of documents\")\n",
    "plt.ylabel(\"Average word length category\")\n",
    "plt.title(\"Amount of documents per word length category\")\n",
    "plt.grid(True)\n",
    "plt.show()"
   ]
  },
  {
   "cell_type": "markdown",
   "metadata": {},
   "source": [
    "# METHOD 1: Native Python & Pandas"
   ]
  },
  {
   "cell_type": "code",
   "execution_count": 12,
   "metadata": {},
   "outputs": [],
   "source": [
    "globalLemmaInstance = WordNetLemmatizer()\n",
    "method_1_native_execution_results_threads_1 = {\n",
    "    \"document_size\": {\n",
    "        \"global\":{\n",
    "            '1k': None,\n",
    "            '10k': None,\n",
    "            '25k': None,\n",
    "            '50k': None,\n",
    "            '75k': None,\n",
    "            '100k': None\n",
    "        },\n",
    "        \"no_global\": {\n",
    "            '1k': None,\n",
    "            '10k': None,\n",
    "            '25k': None,\n",
    "            '50k': None,\n",
    "            '75k': None,\n",
    "            '100k': None\n",
    "        }\n",
    "    },\n",
    "    \"document_length\": {\n",
    "        \"global\":{\n",
    "            '1-20': None,\n",
    "            '20-30': None,\n",
    "            '30-40': None,\n",
    "            '40-50': None,\n",
    "            '50-60': None,\n",
    "            '60-70': None,\n",
    "            '70-80': None,\n",
    "            '80-90': None,\n",
    "            '90-100': None\n",
    "        },\n",
    "        \"no_global\": {\n",
    "            '1-20': None,\n",
    "            '20-30': None,\n",
    "            '30-40': None,\n",
    "            '40-50': None,\n",
    "            '50-60': None,\n",
    "            '60-70': None,\n",
    "            '70-80': None,\n",
    "            '80-90': None,\n",
    "            '90-100': None\n",
    "        }\n",
    "    }\n",
    "}\n",
    "\n",
    "method_1_native_execution_results_threads_6 = {\n",
    "    \"document_size\": {\n",
    "        \"global\":{\n",
    "            '1k': None,\n",
    "            '10k': None,\n",
    "            '25k': None,\n",
    "            '50k': None,\n",
    "            '75k': None,\n",
    "            '100k': None\n",
    "        },\n",
    "        \"no_global\": {\n",
    "            '1k': None,\n",
    "            '10k': None,\n",
    "            '25k': None,\n",
    "            '50k': None,\n",
    "            '75k': None,\n",
    "            '100k': None\n",
    "        }\n",
    "    },\n",
    "    \"document_length\": {\n",
    "        \"global\":{\n",
    "            '1-20': None,\n",
    "            '20-30': None,\n",
    "            '30-40': None,\n",
    "            '40-50': None,\n",
    "            '50-60': None,\n",
    "            '60-70': None,\n",
    "            '70-80': None,\n",
    "            '80-90': None,\n",
    "            '90-100': None\n",
    "        },\n",
    "        \"no_global\": {\n",
    "            '1-20': None,\n",
    "            '20-30': None,\n",
    "            '30-40': None,\n",
    "            '40-50': None,\n",
    "            '50-60': None,\n",
    "            '60-70': None,\n",
    "            '70-80': None,\n",
    "            '80-90': None,\n",
    "            '90-100': None\n",
    "        }\n",
    "    }\n",
    "}\n",
    "\n",
    "method_1_native_execution_results_threads_12 = {\n",
    "    \"document_size\": {\n",
    "        \"global\":{\n",
    "            '1k': None,\n",
    "            '10k': None,\n",
    "            '25k': None,\n",
    "            '50k': None,\n",
    "            '75k': None,\n",
    "            '100k': None\n",
    "        },\n",
    "        \"no_global\": {\n",
    "            '1k': None,\n",
    "            '10k': None,\n",
    "            '25k': None,\n",
    "            '50k': None,\n",
    "            '75k': None,\n",
    "            '100k': None\n",
    "        }\n",
    "    },\n",
    "    \"document_length\": {\n",
    "        \"global\":{\n",
    "            '1-20': None,\n",
    "            '20-30': None,\n",
    "            '30-40': None,\n",
    "            '40-50': None,\n",
    "            '50-60': None,\n",
    "            '60-70': None,\n",
    "            '70-80': None,\n",
    "            '80-90': None,\n",
    "            '90-100': None\n",
    "        },\n",
    "        \"no_global\": {\n",
    "            '1-20': None,\n",
    "            '20-30': None,\n",
    "            '30-40': None,\n",
    "            '40-50': None,\n",
    "            '50-60': None,\n",
    "            '60-70': None,\n",
    "            '70-80': None,\n",
    "            '80-90': None,\n",
    "            '90-100': None\n",
    "        }\n",
    "    }\n",
    "}"
   ]
  },
  {
   "cell_type": "code",
   "execution_count": 13,
   "metadata": {},
   "outputs": [],
   "source": [
    "# Different methods for instance in and instance out method\n",
    "\n",
    "def native_lemma_with_global(corpus_list):\n",
    "    global globalLemmaInstance\n",
    "    return [globalLemmaInstance.lemmatize(w) for w in corpus_list]\n",
    "\n",
    "def native_lemma_no_global(corpus_list):\n",
    "    return [WordNetLemmatizer().lemmatize(w) for w in corpus_list]"
   ]
  },
  {
   "cell_type": "code",
   "execution_count": 14,
   "metadata": {},
   "outputs": [],
   "source": [
    "def allocate_function(df, option):\n",
    "    if option == \"global\":\n",
    "        df['corpus'].apply(native_lemma_with_global)\n",
    "    else:\n",
    "        df['corpus'].apply(native_lemma_no_global)\n",
    "    return None"
   ]
  },
  {
   "cell_type": "code",
   "execution_count": 15,
   "metadata": {},
   "outputs": [
    {
     "name": "stdout",
     "output_type": "stream",
     "text": [
      "1\n",
      "document_size global 1k\n",
      "TIME =>  2.4201812744140625\n",
      "document_size global 10k\n",
      "TIME =>  0.29915452003479004\n",
      "document_size global 25k\n",
      "TIME =>  0.7342596054077148\n",
      "document_size global 50k\n",
      "TIME =>  1.6369798183441162\n",
      "document_size global 75k\n",
      "TIME =>  2.513120651245117\n",
      "document_size global 100k\n",
      "TIME =>  2.9177539348602295\n",
      "document_size no_global 1k\n",
      "TIME =>  0.031880855560302734\n",
      "document_size no_global 10k\n",
      "TIME =>  0.3104844093322754\n",
      "document_size no_global 25k\n",
      "TIME =>  0.7913804054260254\n",
      "document_size no_global 50k\n",
      "TIME =>  1.8535211086273193\n",
      "document_size no_global 75k\n",
      "TIME =>  2.348554849624634\n",
      "document_size no_global 100k\n",
      "TIME =>  3.5379278659820557\n",
      "document_length global 1-20\n",
      "TIME =>  0.06221127510070801\n",
      "document_length global 20-30\n",
      "TIME =>  0.17982053756713867\n",
      "document_length global 30-40\n",
      "TIME =>  0.24793696403503418\n",
      "document_length global 40-50\n",
      "TIME =>  0.3244926929473877\n",
      "document_length global 50-60\n",
      "TIME =>  0.3990020751953125\n",
      "document_length global 60-70\n",
      "TIME =>  0.459073543548584\n",
      "document_length global 70-80\n",
      "TIME =>  0.5325698852539062\n",
      "document_length global 80-90\n",
      "TIME =>  0.6127889156341553\n",
      "document_length global 90-100\n",
      "TIME =>  0.6745193004608154\n",
      "document_length no_global 1-20\n",
      "TIME =>  0.06183314323425293\n",
      "document_length no_global 20-30\n",
      "TIME =>  0.19184565544128418\n",
      "document_length no_global 30-40\n",
      "TIME =>  0.2678673267364502\n",
      "document_length no_global 40-50\n",
      "TIME =>  0.3341066837310791\n",
      "document_length no_global 50-60\n",
      "TIME =>  0.40231800079345703\n",
      "document_length no_global 60-70\n",
      "TIME =>  0.4840877056121826\n",
      "document_length no_global 70-80\n",
      "TIME =>  0.837996244430542\n",
      "document_length no_global 80-90\n",
      "TIME =>  0.6358280181884766\n",
      "document_length no_global 90-100\n",
      "TIME =>  0.7140860557556152\n",
      "6\n",
      "document_size global 1k\n",
      "TIME =>  0.03709673881530762\n",
      "document_size global 10k\n",
      "TIME =>  0.34658074378967285\n",
      "document_size global 25k\n",
      "TIME =>  0.8137109279632568\n",
      "document_size global 50k\n",
      "TIME =>  1.6252503395080566\n",
      "document_size global 75k\n",
      "TIME =>  2.393690824508667\n",
      "document_size global 100k\n",
      "TIME =>  3.472681760787964\n",
      "document_size no_global 1k\n",
      "TIME =>  0.036928415298461914\n",
      "document_size no_global 10k\n",
      "TIME =>  0.35453152656555176\n",
      "document_size no_global 25k\n",
      "TIME =>  0.8676931858062744\n",
      "document_size no_global 50k\n",
      "TIME =>  1.7833576202392578\n",
      "document_size no_global 75k\n",
      "TIME =>  2.593642473220825\n",
      "document_size no_global 100k\n",
      "TIME =>  3.835568428039551\n",
      "document_length global 1-20\n",
      "TIME =>  0.06582307815551758\n",
      "document_length global 20-30\n",
      "TIME =>  0.17554688453674316\n",
      "document_length global 30-40\n",
      "TIME =>  0.21645212173461914\n",
      "document_length global 40-50\n",
      "TIME =>  0.3560671806335449\n",
      "document_length global 50-60\n",
      "TIME =>  0.4229440689086914\n",
      "document_length global 60-70\n",
      "TIME =>  0.44489312171936035\n",
      "document_length global 70-80\n",
      "TIME =>  0.4353005886077881\n",
      "document_length global 80-90\n",
      "TIME =>  0.5817296504974365\n",
      "document_length global 90-100\n",
      "TIME =>  0.7725551128387451\n",
      "document_length no_global 1-20\n",
      "TIME =>  0.07180619239807129\n",
      "document_length no_global 20-30\n",
      "TIME =>  0.1989450454711914\n",
      "document_length no_global 30-40\n",
      "TIME =>  0.28623485565185547\n",
      "document_length no_global 40-50\n",
      "TIME =>  0.36652421951293945\n",
      "document_length no_global 50-60\n",
      "TIME =>  0.4726738929748535\n",
      "document_length no_global 60-70\n",
      "TIME =>  0.543980598449707\n",
      "document_length no_global 70-80\n",
      "TIME =>  0.6293365955352783\n",
      "document_length no_global 80-90\n",
      "TIME =>  0.7232208251953125\n",
      "document_length no_global 90-100\n",
      "TIME =>  0.6590538024902344\n",
      "12\n",
      "document_size global 1k\n",
      "TIME =>  0.038865089416503906\n",
      "document_size global 10k\n",
      "TIME =>  0.2702760696411133\n",
      "document_size global 25k\n",
      "TIME =>  0.6059741973876953\n",
      "document_size global 50k\n",
      "TIME =>  1.485090732574463\n",
      "document_size global 75k\n",
      "TIME =>  2.6741833686828613\n",
      "document_size global 100k\n",
      "TIME =>  3.174778461456299\n",
      "document_size no_global 1k\n",
      "TIME =>  0.04185914993286133\n",
      "document_size no_global 10k\n",
      "TIME =>  0.36302828788757324\n",
      "document_size no_global 25k\n",
      "TIME =>  0.8871755599975586\n",
      "document_size no_global 50k\n",
      "TIME =>  1.8125953674316406\n",
      "document_size no_global 75k\n",
      "TIME =>  2.880636692047119\n",
      "document_size no_global 100k\n",
      "TIME =>  3.6402227878570557\n",
      "document_length global 1-20\n",
      "TIME =>  0.07878923416137695\n",
      "document_length global 20-30\n",
      "TIME =>  0.16841506958007812\n",
      "document_length global 30-40\n",
      "TIME =>  0.21594452857971191\n",
      "document_length global 40-50\n",
      "TIME =>  0.26383090019226074\n",
      "document_length global 50-60\n",
      "TIME =>  0.40491676330566406\n",
      "document_length global 60-70\n",
      "TIME =>  0.49984002113342285\n",
      "document_length global 70-80\n",
      "TIME =>  0.5880608558654785\n",
      "document_length global 80-90\n",
      "TIME =>  0.6767349243164062\n",
      "document_length global 90-100\n",
      "TIME =>  0.7656199932098389\n",
      "document_length no_global 1-20\n",
      "TIME =>  0.0662844181060791\n",
      "document_length no_global 20-30\n",
      "TIME =>  0.2563149929046631\n",
      "document_length no_global 30-40\n",
      "TIME =>  0.35666775703430176\n",
      "document_length no_global 40-50\n",
      "TIME =>  0.40691161155700684\n",
      "document_length no_global 50-60\n",
      "TIME =>  0.45104432106018066\n",
      "document_length no_global 60-70\n",
      "TIME =>  0.5362668037414551\n",
      "document_length no_global 70-80\n",
      "TIME =>  0.6363298892974854\n",
      "document_length no_global 80-90\n",
      "TIME =>  0.7051942348480225\n",
      "document_length no_global 90-100\n",
      "TIME =>  0.8034305572509766\n"
     ]
    }
   ],
   "source": [
    "def method_1_execution():\n",
    "    result_variabels = {1: method_1_native_execution_results_threads_1, \n",
    "               6: method_1_native_execution_results_threads_6, \n",
    "               12: method_1_native_execution_results_threads_12}\n",
    "    \n",
    "    for param, results in result_variabels.items():\n",
    "        print(param)\n",
    "        for methodology_name, methodology in results.items():\n",
    "            for option_name, option in methodology.items():\n",
    "                for subset_name, time in option.items():\n",
    "                    subset = None\n",
    "                    if methodology_name == \"document_size\":\n",
    "                        subset = subset_varying_documents\n",
    "                        subset_size = int(str(subset_name).replace('k', '000'))\n",
    "                        if int(subset.shape[0]) > subset_size:\n",
    "                            subset = subset.drop(subset.tail(subset.shape[0]-subset_size).index,inplace=False)\n",
    "                    elif methodology_name == \"document_length\":\n",
    "                        subset = subset_varying_wordLength[subset_name]\n",
    "                    # Divide subset in subsequent sets for multithreaded processing\n",
    "                    subset = np.array_split(subset, param)\n",
    "                    # Execute code\n",
    "                    threadList = []\n",
    "                    for sub_subset in subset:\n",
    "                        threadList.append(Thread(target=allocate_function, args=(sub_subset, option_name,)))\n",
    "                    # Start timing\n",
    "                    start_time = curr_time()\n",
    "                    [t.start() for t in threadList]\n",
    "                    [t.join() for t in threadList]\n",
    "                    # Wait for all threads to be finished\n",
    "                    end_time = curr_time()\n",
    "                    total_time = end_time-start_time\n",
    "                    # Print results\n",
    "                    print(methodology_name, option_name, subset_name)\n",
    "                    print(\"TIME => \", end_time-start_time)\n",
    "                    results[methodology_name][option_name][subset_name] = total_time\n",
    "                    \n",
    "method_1_execution()"
   ]
  },
  {
   "cell_type": "code",
   "execution_count": 18,
   "metadata": {},
   "outputs": [
    {
     "data": {
      "text/plain": [
       "{'document_size': {'global': {'1k': 0.038865089416503906,\n",
       "   '10k': 0.2702760696411133,\n",
       "   '25k': 0.6059741973876953,\n",
       "   '50k': 1.485090732574463,\n",
       "   '75k': 2.6741833686828613,\n",
       "   '100k': 3.174778461456299},\n",
       "  'no_global': {'1k': 0.04185914993286133,\n",
       "   '10k': 0.36302828788757324,\n",
       "   '25k': 0.8871755599975586,\n",
       "   '50k': 1.8125953674316406,\n",
       "   '75k': 2.880636692047119,\n",
       "   '100k': 3.6402227878570557}},\n",
       " 'document_length': {'global': {'1-20': 0.07878923416137695,\n",
       "   '20-30': 0.16841506958007812,\n",
       "   '30-40': 0.21594452857971191,\n",
       "   '40-50': 0.26383090019226074,\n",
       "   '50-60': 0.40491676330566406,\n",
       "   '60-70': 0.49984002113342285,\n",
       "   '70-80': 0.5880608558654785,\n",
       "   '80-90': 0.6767349243164062,\n",
       "   '90-100': 0.7656199932098389},\n",
       "  'no_global': {'1-20': 0.0662844181060791,\n",
       "   '20-30': 0.2563149929046631,\n",
       "   '30-40': 0.35666775703430176,\n",
       "   '40-50': 0.40691161155700684,\n",
       "   '50-60': 0.45104432106018066,\n",
       "   '60-70': 0.5362668037414551,\n",
       "   '70-80': 0.6363298892974854,\n",
       "   '80-90': 0.7051942348480225,\n",
       "   '90-100': 0.8034305572509766}}}"
      ]
     },
     "execution_count": 18,
     "metadata": {},
     "output_type": "execute_result"
    }
   ],
   "source": [
    "method_1_native_execution_results_threads_12"
   ]
  },
  {
   "cell_type": "markdown",
   "metadata": {},
   "source": [
    "# METHOD 2: Dask and Spark"
   ]
  },
  {
   "cell_type": "markdown",
   "metadata": {},
   "source": [
    "Convert the pandas DataFrame to a Spark DataFrame with the createDataFrame method. Remember using the createDataFrame method to convert an RDD to a Spark DataFrame?"
   ]
  },
  {
   "cell_type": "code",
   "execution_count": 23,
   "metadata": {},
   "outputs": [],
   "source": [
    "method_2_spark = {\n",
    "    \"document_size\": {\n",
    "        \"global\":{\n",
    "            '1k': None,\n",
    "            '10k': None,\n",
    "            '25k': None,\n",
    "            '50k': None,\n",
    "            '75k': None,\n",
    "            '100k': None\n",
    "        },\n",
    "        \"no_global\": {\n",
    "            '1k': None,\n",
    "            '10k': None,\n",
    "            '25k': None,\n",
    "            '50k': None,\n",
    "            '75k': None,\n",
    "            '100k': None\n",
    "        }\n",
    "    },\n",
    "    \"document_length\": {\n",
    "        \"global\":{\n",
    "            '1-20': None,\n",
    "            '20-30': None,\n",
    "            '30-40': None,\n",
    "            '40-50': None,\n",
    "            '50-60': None,\n",
    "            '60-70': None,\n",
    "            '70-80': None,\n",
    "            '80-90': None,\n",
    "            '90-100': None\n",
    "        },\n",
    "        \"no_global\": {\n",
    "            '1-20': None,\n",
    "            '20-30': None,\n",
    "            '30-40': None,\n",
    "            '40-50': None,\n",
    "            '50-60': None,\n",
    "            '60-70': None,\n",
    "            '70-80': None,\n",
    "            '80-90': None,\n",
    "            '90-100': None\n",
    "        }\n",
    "    }\n",
    "}\n",
    "\n",
    "method_2_dask = {\n",
    "    \"document_size\": {\n",
    "        \"global\":{\n",
    "            '1k': None,\n",
    "            '10k': None,\n",
    "            '25k': None,\n",
    "            '50k': None,\n",
    "            '75k': None,\n",
    "            '100k': None\n",
    "        },\n",
    "        \"no_global\": {\n",
    "            '1k': None,\n",
    "            '10k': None,\n",
    "            '25k': None,\n",
    "            '50k': None,\n",
    "            '75k': None,\n",
    "            '100k': None\n",
    "        }\n",
    "    },\n",
    "    \"document_length\": {\n",
    "        \"global\":{\n",
    "            '1-20': None,\n",
    "            '20-30': None,\n",
    "            '30-40': None,\n",
    "            '40-50': None,\n",
    "            '50-60': None,\n",
    "            '60-70': None,\n",
    "            '70-80': None,\n",
    "            '80-90': None,\n",
    "            '90-100': None\n",
    "        },\n",
    "        \"no_global\": {\n",
    "            '1-20': None,\n",
    "            '20-30': None,\n",
    "            '30-40': None,\n",
    "            '40-50': None,\n",
    "            '50-60': None,\n",
    "            '60-70': None,\n",
    "            '70-80': None,\n",
    "            '80-90': None,\n",
    "            '90-100': None\n",
    "        }\n",
    "    }\n",
    "}"
   ]
  },
  {
   "cell_type": "code",
   "execution_count": 19,
   "metadata": {},
   "outputs": [],
   "source": [
    "spark_df = spark.createDataFrame(subset_varying_documents)"
   ]
  },
  {
   "cell_type": "code",
   "execution_count": 22,
   "metadata": {},
   "outputs": [
    {
     "name": "stdout",
     "output_type": "stream",
     "text": [
      "+--------------------+---------------+\n",
      "|              corpus|avg_word_length|\n",
      "+--------------------+---------------+\n",
      "|[Now, I, have, to...|             15|\n",
      "+--------------------+---------------+\n",
      "only showing top 1 row\n",
      "\n"
     ]
    }
   ],
   "source": [
    "spark_df.show(1)"
   ]
  },
  {
   "cell_type": "code",
   "execution_count": 35,
   "metadata": {},
   "outputs": [],
   "source": [
    "def allocate_function_dask(df, option):\n",
    "    if option == \"global\":\n",
    "        df['corpus'].apply(native_lemma_with_global, meta=('corpus', 'object'))\n",
    "    else:\n",
    "        df['corpus'].apply(native_lemma_no_global, meta=('corpus', 'object'))\n",
    "    return None\n",
    "\n",
    "def allocate_function_spark(df, option):\n",
    "    print()\n",
    "    if option == \"global\":\n",
    "        df.corpus.rdd.map(native_lemma_with_global)\n",
    "    else:\n",
    "        df.corpus.rdd.map(native_lemma_no_global)\n",
    "    return None"
   ]
  },
  {
   "cell_type": "code",
   "execution_count": 37,
   "metadata": {},
   "outputs": [
    {
     "name": "stdout",
     "output_type": "stream",
     "text": [
      "spark\n"
     ]
    },
    {
     "ename": "TypeError",
     "evalue": "'Column' object is not callable",
     "output_type": "error",
     "traceback": [
      "\u001b[1;31m---------------------------------------------------------------------------\u001b[0m",
      "\u001b[1;31mTypeError\u001b[0m                                 Traceback (most recent call last)",
      "\u001b[1;32m<ipython-input-37-96488a2f8ba8>\u001b[0m in \u001b[0;36m<module>\u001b[1;34m\u001b[0m\n\u001b[0;32m     40\u001b[0m                     \u001b[0mresults\u001b[0m\u001b[1;33m[\u001b[0m\u001b[0mmethodology_name\u001b[0m\u001b[1;33m]\u001b[0m\u001b[1;33m[\u001b[0m\u001b[0moption_name\u001b[0m\u001b[1;33m]\u001b[0m\u001b[1;33m[\u001b[0m\u001b[0msubset_name\u001b[0m\u001b[1;33m]\u001b[0m \u001b[1;33m=\u001b[0m \u001b[0mtotal_time\u001b[0m\u001b[1;33m\u001b[0m\u001b[1;33m\u001b[0m\u001b[0m\n\u001b[0;32m     41\u001b[0m \u001b[1;33m\u001b[0m\u001b[0m\n\u001b[1;32m---> 42\u001b[1;33m \u001b[0mmethod_2_execution\u001b[0m\u001b[1;33m(\u001b[0m\u001b[1;33m)\u001b[0m\u001b[1;33m\u001b[0m\u001b[1;33m\u001b[0m\u001b[0m\n\u001b[0m",
      "\u001b[1;32m<ipython-input-37-96488a2f8ba8>\u001b[0m in \u001b[0;36mmethod_2_execution\u001b[1;34m()\u001b[0m\n\u001b[0;32m     31\u001b[0m                         \u001b[0mstart_time\u001b[0m \u001b[1;33m=\u001b[0m \u001b[0mcurr_time\u001b[0m\u001b[1;33m(\u001b[0m\u001b[1;33m)\u001b[0m\u001b[1;33m\u001b[0m\u001b[1;33m\u001b[0m\u001b[0m\n\u001b[0;32m     32\u001b[0m                         \u001b[1;31m# Spark method\u001b[0m\u001b[1;33m\u001b[0m\u001b[1;33m\u001b[0m\u001b[1;33m\u001b[0m\u001b[0m\n\u001b[1;32m---> 33\u001b[1;33m                         \u001b[0mallocate_function_spark\u001b[0m\u001b[1;33m(\u001b[0m\u001b[0msubset\u001b[0m\u001b[1;33m,\u001b[0m \u001b[0moption_name\u001b[0m\u001b[1;33m)\u001b[0m\u001b[1;33m\u001b[0m\u001b[1;33m\u001b[0m\u001b[0m\n\u001b[0m\u001b[0;32m     34\u001b[0m                     \u001b[1;31m# Wait for all threads to be finished\u001b[0m\u001b[1;33m\u001b[0m\u001b[1;33m\u001b[0m\u001b[1;33m\u001b[0m\u001b[0m\n\u001b[0;32m     35\u001b[0m                     \u001b[0mend_time\u001b[0m \u001b[1;33m=\u001b[0m \u001b[0mcurr_time\u001b[0m\u001b[1;33m(\u001b[0m\u001b[1;33m)\u001b[0m\u001b[1;33m\u001b[0m\u001b[1;33m\u001b[0m\u001b[0m\n",
      "\u001b[1;32m<ipython-input-35-eb76dc3f3a51>\u001b[0m in \u001b[0;36mallocate_function_spark\u001b[1;34m(df, option)\u001b[0m\n\u001b[0;32m      8\u001b[0m \u001b[1;32mdef\u001b[0m \u001b[0mallocate_function_spark\u001b[0m\u001b[1;33m(\u001b[0m\u001b[0mdf\u001b[0m\u001b[1;33m,\u001b[0m \u001b[0moption\u001b[0m\u001b[1;33m)\u001b[0m\u001b[1;33m:\u001b[0m\u001b[1;33m\u001b[0m\u001b[1;33m\u001b[0m\u001b[0m\n\u001b[0;32m      9\u001b[0m     \u001b[1;32mif\u001b[0m \u001b[0moption\u001b[0m \u001b[1;33m==\u001b[0m \u001b[1;34m\"global\"\u001b[0m\u001b[1;33m:\u001b[0m\u001b[1;33m\u001b[0m\u001b[1;33m\u001b[0m\u001b[0m\n\u001b[1;32m---> 10\u001b[1;33m         \u001b[0mdf\u001b[0m\u001b[1;33m[\u001b[0m\u001b[1;34m'corpus'\u001b[0m\u001b[1;33m]\u001b[0m\u001b[1;33m.\u001b[0m\u001b[0mrdd\u001b[0m\u001b[1;33m.\u001b[0m\u001b[0mmap\u001b[0m\u001b[1;33m(\u001b[0m\u001b[0mnative_lemma_with_global\u001b[0m\u001b[1;33m)\u001b[0m\u001b[1;33m\u001b[0m\u001b[1;33m\u001b[0m\u001b[0m\n\u001b[0m\u001b[0;32m     11\u001b[0m     \u001b[1;32melse\u001b[0m\u001b[1;33m:\u001b[0m\u001b[1;33m\u001b[0m\u001b[1;33m\u001b[0m\u001b[0m\n\u001b[0;32m     12\u001b[0m         \u001b[0mdf\u001b[0m\u001b[1;33m[\u001b[0m\u001b[1;34m'corpus'\u001b[0m\u001b[1;33m]\u001b[0m\u001b[1;33m.\u001b[0m\u001b[0mrdd\u001b[0m\u001b[1;33m.\u001b[0m\u001b[0mmap\u001b[0m\u001b[1;33m(\u001b[0m\u001b[0mnative_lemma_no_global\u001b[0m\u001b[1;33m)\u001b[0m\u001b[1;33m\u001b[0m\u001b[1;33m\u001b[0m\u001b[0m\n",
      "\u001b[1;31mTypeError\u001b[0m: 'Column' object is not callable"
     ]
    }
   ],
   "source": [
    "from dask import dataframe as dd\n",
    "\n",
    "def method_2_execution():\n",
    "#     result_variabels = {\"dask\": method_2_dask, \"spark\": method_2_spark}\n",
    "    result_variabels = {\"spark\": method_2_spark}\n",
    "    \n",
    "    for library, results in result_variabels.items():\n",
    "        print(library)\n",
    "        for methodology_name, methodology in results.items():\n",
    "            for option_name, option in methodology.items():\n",
    "                for subset_name, time in option.items():\n",
    "                    subset = None\n",
    "                    if methodology_name == \"document_size\":\n",
    "                        subset = subset_varying_documents\n",
    "                        subset_size = int(str(subset_name).replace('k', '000'))\n",
    "                        if int(subset.shape[0]) > subset_size:\n",
    "                            subset = subset.drop(subset.tail(subset.shape[0]-subset_size).index,inplace=False)\n",
    "                    elif methodology_name == \"document_length\":\n",
    "                        subset = subset_varying_wordLength[subset_name]\n",
    "                    # Load engine into corresponding library\n",
    "                    start_time = None\n",
    "                    if library == \"dask\":\n",
    "                        subset = dd.from_pandas(subset, 6)\n",
    "                        # Start timing\n",
    "                        start_time = curr_time()\n",
    "                        # Dask method\n",
    "                        allocate_function_dask(subset, option_name)\n",
    "                    elif library == \"spark\":\n",
    "                        subset = spark.createDataFrame(subset)\n",
    "                        # Start timing\n",
    "                        start_time = curr_time()\n",
    "                        # Spark method                    \n",
    "                        allocate_function_spark(subset, option_name)\n",
    "                    # Wait for all threads to be finished\n",
    "                    end_time = curr_time()\n",
    "                    total_time = end_time-start_time\n",
    "                    # Print results\n",
    "                    print(methodology_name, option_name, subset_name)\n",
    "                    print(\"TIME => \", end_time-start_time)\n",
    "                    results[methodology_name][option_name][subset_name] = total_time\n",
    "                    \n",
    "method_2_execution()"
   ]
  },
  {
   "cell_type": "code",
   "execution_count": null,
   "metadata": {},
   "outputs": [],
   "source": []
  }
 ],
 "metadata": {
  "kernelspec": {
   "display_name": "Python 3",
   "language": "python",
   "name": "python3"
  },
  "language_info": {
   "codemirror_mode": {
    "name": "ipython",
    "version": 3
   },
   "file_extension": ".py",
   "mimetype": "text/x-python",
   "name": "python",
   "nbconvert_exporter": "python",
   "pygments_lexer": "ipython3",
   "version": "3.7.4"
  }
 },
 "nbformat": 4,
 "nbformat_minor": 2
}
